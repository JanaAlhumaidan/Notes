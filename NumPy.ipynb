{
 "cells": [
  {
   "cell_type": "markdown",
   "metadata": {},
   "source": [
    "## Libraries"
   ]
  },
  {
   "cell_type": "code",
   "execution_count": 2,
   "metadata": {},
   "outputs": [],
   "source": [
    "import numpy as np\n",
    "import pandas as pd"
   ]
  },
  {
   "cell_type": "markdown",
   "metadata": {},
   "source": [
    "## Creating NumPy Arrays"
   ]
  },
  {
   "cell_type": "code",
   "execution_count": null,
   "metadata": {},
   "outputs": [],
   "source": [
    "# ndarray\n",
    "x = np.array([1,2,3])\n",
    "x = np.ones((rows,coloums)) # np.zeros\n",
    "x = np.arange(start, stop, step) \n",
    "x = np.random.randint(start, stop, size= (rows,coloumns))\n",
    "x = np.random.random((rows,columns)) # numbers between 0 and 1\n",
    "x = np.random.rand(rows,columns)\n",
    "x = np.random.seed(seed=0) # when we put this function in the same cell as creating the array, the numbers will not change when we rerun \n",
    "\n",
    "# dataFarme (2D):\n",
    "df = pd.DataFrame(a)"
   ]
  },
  {
   "cell_type": "markdown",
   "metadata": {},
   "source": [
    "## Describing Data"
   ]
  },
  {
   "cell_type": "code",
   "execution_count": null,
   "metadata": {},
   "outputs": [],
   "source": [
    "type(x) # array type\n",
    "x.dtype # data type\n",
    "x.shape \n",
    "x.ndim # number of dimentions\n",
    "x.size # number of elements"
   ]
  },
  {
   "cell_type": "markdown",
   "metadata": {},
   "source": [
    "## Viewing Arrays and Matrices"
   ]
  },
  {
   "cell_type": "code",
   "execution_count": null,
   "metadata": {},
   "outputs": [],
   "source": [
    "np.unique(x) # shows the unique elements in a numpy array\n",
    "x[0] # Show the first row (0)"
   ]
  },
  {
   "cell_type": "markdown",
   "metadata": {},
   "source": [
    "# Manipulating and comparing arrays\n"
   ]
  },
  {
   "cell_type": "markdown",
   "metadata": {},
   "source": [
    "Arithmetic"
   ]
  },
  {
   "cell_type": "code",
   "execution_count": null,
   "metadata": {},
   "outputs": [],
   "source": [
    "# Note: x1.shape == x2.shape\n",
    "x1 + x2\n",
    "x1 - x2\n",
    "x1 * x2\n",
    "x1 / x2\n",
    "x1 // x2 #removes decimals\n",
    "np.add(x1,x2) \n",
    "\n",
    "\n",
    "x ** 2\n",
    "np.square(x)\n",
    "x % 2\n",
    "np.exp(x)\n",
    "np.log(x)\n",
    "np.sqrt(x)"
   ]
  },
  {
   "cell_type": "markdown",
   "metadata": {},
   "source": [
    "Aggregation"
   ]
  },
  {
   "cell_type": "code",
   "execution_count": null,
   "metadata": {},
   "outputs": [],
   "source": [
    "np.sum(x)\n",
    "np.mean(x) \n",
    "np.max(x)\n",
    "np.min(x)\n",
    "np.std(x)\n",
    "np.var(x)  "
   ]
  }
 ],
 "metadata": {
  "kernelspec": {
   "display_name": "Python 3",
   "language": "python",
   "name": "python3"
  },
  "language_info": {
   "codemirror_mode": {
    "name": "ipython",
    "version": 3
   },
   "file_extension": ".py",
   "mimetype": "text/x-python",
   "name": "python",
   "nbconvert_exporter": "python",
   "pygments_lexer": "ipython3",
   "version": "3.12.2"
  }
 },
 "nbformat": 4,
 "nbformat_minor": 2
}
