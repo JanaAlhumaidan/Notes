{
 "cells": [
  {
   "cell_type": "markdown",
   "metadata": {},
   "source": [
    "## Libraries"
   ]
  },
  {
   "cell_type": "code",
   "execution_count": null,
   "metadata": {},
   "outputs": [],
   "source": [
    "import pandas as pd\n",
    "import numpy as np\n",
    "import matplotlib.pyplot as plt #if needed"
   ]
  },
  {
   "cell_type": "markdown",
   "metadata": {},
   "source": [
    "## Datatypes & Attributes "
   ]
  },
  {
   "cell_type": "code",
   "execution_count": null,
   "metadata": {},
   "outputs": [],
   "source": [
    "# Series:\n",
    "x = pd.Series([\"x\", \"y\", \"z\"])\n",
    "\n",
    "# dataFarme (2D):\n",
    "x = pd.DataFrame({\"columnName1\": seriesName, \"columnName2\": seriesName})\n",
    "\n",
    "# ndarray\n",
    "x = np.array([1,2,3])"
   ]
  },
  {
   "cell_type": "markdown",
   "metadata": {},
   "source": [
    "## Importing Data"
   ]
  },
  {
   "cell_type": "code",
   "execution_count": null,
   "metadata": {},
   "outputs": [],
   "source": [
    "x = pd.read_csv(r\"filePath\")"
   ]
  },
  {
   "cell_type": "markdown",
   "metadata": {},
   "source": [
    "## Exporting a dataframe"
   ]
  },
  {
   "cell_type": "code",
   "execution_count": null,
   "metadata": {},
   "outputs": [],
   "source": [
    "x.to_csv(\"y\", index=False) # y = the name of the new file"
   ]
  },
  {
   "cell_type": "markdown",
   "metadata": {},
   "source": [
    "## Describing data  \n",
    "with () for functions    without () for Attributes"
   ]
  },
  {
   "cell_type": "code",
   "execution_count": null,
   "metadata": {},
   "outputs": [],
   "source": [
    "x.dtype #prints the dtype of each column\n",
    "x[\"columnName\"].dtype #prints the dtype of the chosen column\n",
    "x.columns #shows you the column's names\n",
    "x.index \n",
    "x.describe() #prints out the count, mean, std, min of the int columns\n",
    "x.info() #prints some info about the columns' data\n",
    "x.mean()\n",
    "x.sum()\n",
    "x[\"columnName\"].sum() #if I want a specific column\n",
    "len(x) #no. of rows"
   ]
  },
  {
   "cell_type": "markdown",
   "metadata": {},
   "source": [
    "## Viewing and Selecting"
   ]
  },
  {
   "cell_type": "code",
   "execution_count": null,
   "metadata": {},
   "outputs": [],
   "source": [
    "x.head() #prints the first 5 rows \n",
    "x.head(y) # y = number >> if I want a specific no. of rows\n",
    "x.tail() #last 4 rows\n",
    "x.iloc[3] # .iloc refers to position\n",
    "x.loc[3] # .loc refers to index\n",
    "x.columnName #prints the data in this column >> will not work if the column name have a space\n",
    "x[\"columnName\"] #prints the data in this column\n",
    "x[x[\"columnName\"] == \"object\"] #prints the rows that has the chosen object in the chosen column\n",
    "x[x[\"columnName\"] > 100000] #prints the rows that goes with the rule in the chosen column\n",
    "pd.crosstab(x[\"columnName1\"], x[\"columnName2\"]) #crosstab"
   ]
  },
  {
   "cell_type": "markdown",
   "metadata": {},
   "source": [
    "## changing the dtype"
   ]
  },
  {
   "cell_type": "code",
   "execution_count": null,
   "metadata": {},
   "outputs": [],
   "source": [
    "x['columnName'] = x['columnName'].astype(str) # changing the dtype\n",
    "x[\"columnName\"] = x[\"columnName\"].str.replace('char', 'newChar') # replacing a char in a column\n",
    "x[\"columnName\"] = x[\"columnName\"].str.replace('char', 'newChar').astype(int) # replacing & changing the dtype"
   ]
  },
  {
   "cell_type": "markdown",
   "metadata": {},
   "source": [
    "## Graphs"
   ]
  },
  {
   "cell_type": "code",
   "execution_count": null,
   "metadata": {},
   "outputs": [],
   "source": [
    "x.plot()\n",
    "x.hist()\n",
    "x.plot().bar()\n",
    "x.plot().bar(stacked=True)\n",
    "x[\"columnName\"].plot() # if I want a specific column"
   ]
  },
  {
   "cell_type": "markdown",
   "metadata": {},
   "source": [
    "## Manipulating and Editing data\n"
   ]
  },
  {
   "cell_type": "code",
   "execution_count": null,
   "metadata": {},
   "outputs": [],
   "source": [
    "x[\"columnName\"] = x[\"columnName\"].str.lower() #lower case.\n",
    "x[\"columnName\"].fillna(\"...\") #fills the missing data with what ever in the \"...\" \n",
    "x[\"columnName\"].fillna(\"...\", inplace=True) #saves the changes\n",
    "x.dropna(inplace = True) #rows withe missing values will be droped\n",
    "x.drop(\"...\") #drops what ever in \"...\"\n",
    "x.sample(frac=1) # shuffles the data (rows)\n",
    "x.sort_index() # sorts the DataFrame by the index\n",
    "x = x.rename(columns={\"oldNams\": \"newName\"})\n"
   ]
  },
  {
   "cell_type": "markdown",
   "metadata": {},
   "source": [
    "## Adding data to the dataFrame"
   ]
  },
  {
   "cell_type": "code",
   "execution_count": null,
   "metadata": {},
   "outputs": [],
   "source": [
    "x[\"NewColumnName\"] = SeriesName  # Adding a new column from a sieres (it will be added to the right by defult) **if the series len < rows no, the rest will be NaN\n",
    "x[\"NewColumnName\"] = Listname # Adding new column from a list **make sure that the list len = rows no\n",
    "x[\"NewColumnName\"] = x[\"column1\"]/100 * x[\"column2\"] # Example of adding a column using the data in the dataFrame\n",
    "x[\"NewColumnName\"] = 4 # creating a column from a single value"
   ]
  }
 ],
 "metadata": {
  "kernelspec": {
   "display_name": "Python 3",
   "language": "python",
   "name": "python3"
  },
  "language_info": {
   "codemirror_mode": {
    "name": "ipython",
    "version": 3
   },
   "file_extension": ".py",
   "mimetype": "text/x-python",
   "name": "python",
   "nbconvert_exporter": "python",
   "pygments_lexer": "ipython3",
   "version": "3.12.2"
  }
 },
 "nbformat": 4,
 "nbformat_minor": 2
}
