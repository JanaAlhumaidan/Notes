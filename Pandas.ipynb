{
 "cells": [
  {
   "cell_type": "markdown",
   "metadata": {},
   "source": [
    "## Libraries"
   ]
  },
  {
   "cell_type": "code",
   "execution_count": null,
   "metadata": {},
   "outputs": [],
   "source": [
    "import pandas as pd\n",
    "import matplotlib.pyplot as plt #if needed"
   ]
  },
  {
   "cell_type": "markdown",
   "metadata": {},
   "source": [
    "## 2 main Data types: "
   ]
  },
  {
   "cell_type": "code",
   "execution_count": null,
   "metadata": {},
   "outputs": [],
   "source": [
    "#Series:\n",
    "x = pd.Series([\"x\", \"y\", \"z\"])\n",
    "\n",
    "# dataFarme (2D)\n",
    "x = pd.DataFrame({\"column name1\": seriesName, \"column name2\": seriesName})"
   ]
  },
  {
   "cell_type": "markdown",
   "metadata": {},
   "source": [
    "## Importing Data"
   ]
  },
  {
   "cell_type": "code",
   "execution_count": null,
   "metadata": {},
   "outputs": [],
   "source": [
    "x = pd.read_csv(r\"filePath\")"
   ]
  },
  {
   "cell_type": "markdown",
   "metadata": {},
   "source": [
    "## Exporting a dataframe"
   ]
  },
  {
   "cell_type": "code",
   "execution_count": null,
   "metadata": {},
   "outputs": [],
   "source": [
    "x.to_csv(\"y\", index=False) # y = the name of the new file"
   ]
  },
  {
   "cell_type": "markdown",
   "metadata": {},
   "source": [
    "## Describing data  \n",
    "with () for functions    without () for Attributes"
   ]
  },
  {
   "cell_type": "code",
   "execution_count": null,
   "metadata": {},
   "outputs": [],
   "source": [
    "x.dtype #prints the dtype of each column\n",
    "x[\"column name\"].dtype #prints the dtype of the chosen column\n",
    "x.columns #shows you the column's names\n",
    "x.index \n",
    "x.describe() #prints out the count, mean, std, min of the int columns\n",
    "x.info() #prints some info about the column's data\n",
    "x.mean()\n",
    "x.sum()\n",
    "x[\"column name\"].sum() #if I want a specific column\n",
    "len(x) #no. of rows"
   ]
  },
  {
   "cell_type": "markdown",
   "metadata": {},
   "source": [
    "## Viewing and Selecting"
   ]
  },
  {
   "cell_type": "code",
   "execution_count": null,
   "metadata": {},
   "outputs": [],
   "source": [
    "x.head() #prints the first 5 rows \n",
    "x.head(y) # y = number >> if I want a specific no. of rows\n",
    "x.tail() #last 4 rows\n",
    "x.iloc[3] # .iloc refers to position\n",
    "x.loc[3] # .loc refers to index\n",
    "x.columnName #prints the data in this column >> will not work if the column name have a space\n",
    "x[\"column name\"] #prints the data in this column\n",
    "x[x[\"column name\"] == \"object\"] #prints the rows that has the chosen object in the chosen column\n",
    "x[x[\"column name\"] > 100000] #prints the rows that goes with the rule in the chosen column\n",
    "pd.crosstab(x[\"column name1\"], x[\"column name2\"])"
   ]
  },
  {
   "cell_type": "markdown",
   "metadata": {},
   "source": [
    "## changing the dtype"
   ]
  },
  {
   "cell_type": "code",
   "execution_count": null,
   "metadata": {},
   "outputs": [],
   "source": [
    "x['column name'] = x['column name'].astype(str)\n",
    "x[\"column name\"] = x[\"column name\"].str.replace('[\\$\\,\\.]', '') #replacing a char in a column\n",
    "x[\"column name\"] = x[\"column name\"].str.replace('[\\$\\,\\.]', '').astype(int) #replacing & changing the dtype"
   ]
  },
  {
   "cell_type": "markdown",
   "metadata": {},
   "source": [
    "## Graphs"
   ]
  },
  {
   "cell_type": "code",
   "execution_count": null,
   "metadata": {},
   "outputs": [],
   "source": [
    "x.plot()\n",
    "x.hist()\n",
    "x.plot().bar()\n",
    "x.plot().bar(stacked=True)\n",
    "x[\"column name\"].plot() # if I want a specific column"
   ]
  },
  {
   "cell_type": "markdown",
   "metadata": {},
   "source": [
    "## Manipulating data\n"
   ]
  },
  {
   "cell_type": "code",
   "execution_count": null,
   "metadata": {},
   "outputs": [],
   "source": [
    "x[\"column name\"] = x[\"column name\"].str.lower() #lower case"
   ]
  }
 ],
 "metadata": {
  "kernelspec": {
   "display_name": "Python 3",
   "language": "python",
   "name": "python3"
  },
  "language_info": {
   "codemirror_mode": {
    "name": "ipython",
    "version": 3
   },
   "file_extension": ".py",
   "mimetype": "text/x-python",
   "name": "python",
   "nbconvert_exporter": "python",
   "pygments_lexer": "ipython3",
   "version": "3.12.2"
  }
 },
 "nbformat": 4,
 "nbformat_minor": 2
}
